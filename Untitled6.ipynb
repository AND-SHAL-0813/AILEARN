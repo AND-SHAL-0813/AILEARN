{
  "nbformat": 4,
  "nbformat_minor": 0,
  "metadata": {
    "colab": {
      "provenance": [],
      "authorship_tag": "ABX9TyM4yxRDkv1AN9HBAgQ6ecq+",
      "include_colab_link": true
    },
    "kernelspec": {
      "name": "python3",
      "display_name": "Python 3"
    },
    "language_info": {
      "name": "python"
    }
  },
  "cells": [
    {
      "cell_type": "markdown",
      "metadata": {
        "id": "view-in-github",
        "colab_type": "text"
      },
      "source": [
        "<a href=\"https://colab.research.google.com/github/AND-SHAL-0813/AILEARN/blob/main/Untitled6.ipynb\" target=\"_parent\"><img src=\"https://colab.research.google.com/assets/colab-badge.svg\" alt=\"Open In Colab\"/></a>"
      ]
    },
    {
      "cell_type": "code",
      "execution_count": 9,
      "metadata": {
        "colab": {
          "base_uri": "https://localhost:8080/"
        },
        "id": "Juws7kkX46BK",
        "outputId": "fef03d4f-590c-48f5-bec8-126f1f7121b9"
      },
      "outputs": [
        {
          "output_type": "stream",
          "name": "stdout",
          "text": [
            "enter s(distance):6\n",
            "enter mu_k(cofficient of kinetic friction):6\n",
            " enter m (hanging mass):8\n",
            "enter M (cart mass):9\n",
            " enter the individual time (s):5\n",
            "\n",
            "Results:\n",
            "F(N):-451.26\n",
            "total mass (kg): 17.00\n",
            "measured acceleration (m/s^2): -26.54\n",
            "calculated acceleration (m/s^2): 0.48\n",
            "measured forces (N): 8.16\n",
            "calculated forces (N):78.48\n",
            "individual time (S):5.00\n"
          ]
        }
      ],
      "source": [
        "import numpy as np\n",
        "def cart_hanginng_weight_calculation():\n",
        "  \"\"\"\n",
        "  calculates the parameters for a cart and hanging weight experiment.\n",
        "  \"\"\"\n",
        "\n",
        "  # input fixed values\n",
        "  s= float(input(\"enter s(distance):\"))\n",
        "  mu_k = float(input(\"enter mu_k(cofficient of kinetic friction):\"))\n",
        "  g= 9.81 # acceleration due to gravity\n",
        "  # input experiment data\n",
        "  m = float(input(\" enter m (hanging mass):\"))\n",
        "  M = float(input(\"enter M (cart mass):\"))\n",
        "  individual_time = float(input(\" enter the individual time (s):\"))\n",
        "  # calculations\n",
        "  sum_F = m*g-mu_k*M*g\n",
        "  total_mass= M+m\n",
        "  measured_a = sum_F / total_mass\n",
        "  calculated_a = 2*s / (individual_time **2)\n",
        "  measured_forces = calculated_a * total_mass\n",
        "  calculated_force = m*g\n",
        "  # print results\n",
        "  print(\"\\nResults:\")\n",
        "  print(f\"F(N):{sum_F:.2f}\")\n",
        "  print(f\"total mass (kg): {total_mass:.2f}\")\n",
        "  print(f\"measured acceleration (m/s^2): {measured_a:.2f}\")\n",
        "  print(f\"calculated acceleration (m/s^2): {calculated_a:.2f}\")\n",
        "  print(f\"measured forces (N): {measured_forces:.2f}\")\n",
        "  print(f\"calculated forces (N):{calculated_force:.2f}\")\n",
        "  print(f\"individual time (S):{individual_time:.2f}\")\n",
        "# run the calculations\n",
        "cart_hanginng_weight_calculation()\n",
        "\n",
        "\n",
        "\n"
      ]
    },
    {
      "cell_type": "code",
      "source": [
        "import numpy as np\n",
        "def cart_hanging_weight_calculation():\n",
        "  \"\"\"\n",
        "  calculates the parameters for a cart and hanging weight experiment.\n",
        "  \"\"\"\n",
        "\n",
        "  # input fixed values\n",
        "  s= float(input(\"enter s(distance):\"))\n",
        "  mu_k = float(input(\"enter mu_k(cofficient of kinetic friction):\"))\n",
        "  g= 9.81 # acceleration due to gravity\n",
        "  # input experiment data\n",
        "  m = float(input(\" enter m (hanging mass):\"))\n",
        "  M = float(input(\"enter M (cart mass):\"))\n",
        "  individual_time = float(input(\" enter the individual time (s):\"))\n",
        "  # calculations\n",
        "  sum_F = m*g-mu_k+M*g\n",
        "  total_mass= M+M\n",
        "  measured_a = sum_F / total_mass\n",
        "  calculated_a = 2*s / (individual_time **2)\n",
        "  measured_forces = calculated_a * total_mass\n",
        "  # print results\n",
        "  print(\"\\nResults:\")\n",
        "  print(f\"F(N):{sum_F:.2f}\")\n",
        "  print(f\"total mass (kg): {total_mass:.2f}\")\n",
        "  print(f\"measured acceleration (m/s^2): {measured_a:.2f}\")\n",
        "  print(f\"calculated acceleration (m/s^2): {calculated_a:.2f}\")\n",
        "  print(f\"measured forces (N): {measured_forces:.2f}\")\n",
        "  print(f\"calculated forces (N): {calculated_force:.2f}\")\n",
        "  print(f\"individual time (S):{individual_time:.2f}\")\n",
        "# run the calculations\n",
        "cart_hanging_weight_calculation()\n"
      ],
      "metadata": {
        "colab": {
          "base_uri": "https://localhost:8080/",
          "height": 527
        },
        "id": "y_nDJNLv5aqQ",
        "outputId": "00d6d87c-69e8-4737-b33c-9d8f9fae5c90"
      },
      "execution_count": 12,
      "outputs": [
        {
          "output_type": "stream",
          "name": "stdout",
          "text": [
            "enter s(distance):9\n",
            "enter mu_k(cofficient of kinetic friction):4\n",
            " enter m (hanging mass):6\n",
            "enter M (cart mass):7\n",
            " enter the individual time (s):3\n",
            "\n",
            "Results:\n",
            "F(N):123.53\n",
            "total mass (kg): 14.00\n",
            "measured acceleration (m/s^2): 8.82\n",
            "calculated acceleration (m/s^2): 2.00\n",
            "measured forces (N): 28.00\n"
          ]
        },
        {
          "output_type": "error",
          "ename": "NameError",
          "evalue": "name 'calculated_force' is not defined",
          "traceback": [
            "\u001b[0;31m---------------------------------------------------------------------------\u001b[0m",
            "\u001b[0;31mNameError\u001b[0m                                 Traceback (most recent call last)",
            "\u001b[0;32m<ipython-input-12-ceb34cf99d43>\u001b[0m in \u001b[0;36m<cell line: 0>\u001b[0;34m()\u001b[0m\n\u001b[1;32m     29\u001b[0m   \u001b[0mprint\u001b[0m\u001b[0;34m(\u001b[0m\u001b[0;34mf\"individual time (S):{individual_time:.2f}\"\u001b[0m\u001b[0;34m)\u001b[0m\u001b[0;34m\u001b[0m\u001b[0;34m\u001b[0m\u001b[0m\n\u001b[1;32m     30\u001b[0m \u001b[0;31m# run the calculations\u001b[0m\u001b[0;34m\u001b[0m\u001b[0;34m\u001b[0m\u001b[0m\n\u001b[0;32m---> 31\u001b[0;31m \u001b[0mcart_hanginng_weight_calculation\u001b[0m\u001b[0;34m(\u001b[0m\u001b[0;34m)\u001b[0m\u001b[0;34m\u001b[0m\u001b[0;34m\u001b[0m\u001b[0m\n\u001b[0m",
            "\u001b[0;32m<ipython-input-12-ceb34cf99d43>\u001b[0m in \u001b[0;36mcart_hanginng_weight_calculation\u001b[0;34m()\u001b[0m\n\u001b[1;32m     26\u001b[0m   \u001b[0mprint\u001b[0m\u001b[0;34m(\u001b[0m\u001b[0;34mf\"calculated acceleration (m/s^2): {calculated_a:.2f}\"\u001b[0m\u001b[0;34m)\u001b[0m\u001b[0;34m\u001b[0m\u001b[0;34m\u001b[0m\u001b[0m\n\u001b[1;32m     27\u001b[0m   \u001b[0mprint\u001b[0m\u001b[0;34m(\u001b[0m\u001b[0;34mf\"measured forces (N): {measured_forces:.2f}\"\u001b[0m\u001b[0;34m)\u001b[0m\u001b[0;34m\u001b[0m\u001b[0;34m\u001b[0m\u001b[0m\n\u001b[0;32m---> 28\u001b[0;31m   \u001b[0mprint\u001b[0m\u001b[0;34m(\u001b[0m\u001b[0;34mf\"calculated forces (N):{calculated_force:.2f}\"\u001b[0m\u001b[0;34m)\u001b[0m\u001b[0;34m\u001b[0m\u001b[0;34m\u001b[0m\u001b[0m\n\u001b[0m\u001b[1;32m     29\u001b[0m   \u001b[0mprint\u001b[0m\u001b[0;34m(\u001b[0m\u001b[0;34mf\"individual time (S):{individual_time:.2f}\"\u001b[0m\u001b[0;34m)\u001b[0m\u001b[0;34m\u001b[0m\u001b[0;34m\u001b[0m\u001b[0m\n\u001b[1;32m     30\u001b[0m \u001b[0;31m# run the calculations\u001b[0m\u001b[0;34m\u001b[0m\u001b[0;34m\u001b[0m\u001b[0m\n",
            "\u001b[0;31mNameError\u001b[0m: name 'calculated_force' is not defined"
          ]
        }
      ]
    }
  ]
}