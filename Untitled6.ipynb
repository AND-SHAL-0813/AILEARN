{
  "nbformat": 4,
  "nbformat_minor": 0,
  "metadata": {
    "colab": {
      "provenance": [],
      "authorship_tag": "ABX9TyO7qEo2aBsYpki5VKauwzCF",
      "include_colab_link": true
    },
    "kernelspec": {
      "name": "python3",
      "display_name": "Python 3"
    },
    "language_info": {
      "name": "python"
    }
  },
  "cells": [
    {
      "cell_type": "markdown",
      "metadata": {
        "id": "view-in-github",
        "colab_type": "text"
      },
      "source": [
        "<a href=\"https://colab.research.google.com/github/AND-SHAL-0813/AILEARN/blob/main/Untitled6.ipynb\" target=\"_parent\"><img src=\"https://colab.research.google.com/assets/colab-badge.svg\" alt=\"Open In Colab\"/></a>"
      ]
    },
    {
      "cell_type": "code",
      "source": [
        "#Capture Network Traffic (Packet Sniffing)\n",
        "Use scapy or pyshark to sniff packets:\n",
        "from scapy.all import sniff\n",
        "\n",
        "def capture_packets(interface=\"eth0\", packet_count=100):\n",
        "    packets = sniff(iface=interface, count=packet_count)\n",
        "    packets.summary()\n",
        "\n",
        "sudo tcpdump -i any -w traffic.pcap\n"
      ],
      "metadata": {
        "id": "D9bg1977XC2_"
      },
      "execution_count": null,
      "outputs": []
    },
    {
      "cell_type": "code",
      "source": [
        " # Analyze the Traffic\n",
        "import pyshark\n",
        "\n",
        "cap = pyshark.FileCapture('traffic.pcap')\n",
        "for packet in cap:\n",
        "    print(packet.highest_layer, packet.ip.src, packet.ip.dst)"
      ],
      "metadata": {
        "id": "QNmR46S1ZF9M"
      },
      "execution_count": null,
      "outputs": []
    },
    {
      "cell_type": "code",
      "source": [
        "#Visualize the Data\n",
        "import matplotlib.pyplot as plt\n",
        "\n",
        "protocols = ['TCP', 'UDP', 'ICMP']\n",
        "counts = [120, 80, 30]\n",
        "plt.pie(counts, labels=protocols, autopct='%1.1f%%')\n",
        "plt.title('Protocol Distribution')\n",
        "plt.show()"
      ],
      "metadata": {
        "id": "zXvfv6foZNIG"
      },
      "execution_count": null,
      "outputs": []
    },
    {
      "cell_type": "code",
      "source": [
        "#Project Structure\n",
        "network_analyzer/\n",
        "├── capture.py\n",
        "├── analyze.py\n",
        "├── visualize.py\n",
        "├── main.py\n",
        "├── requirements.txt\n",
        "\n",
        "from scapy.all import sniff, wrpcap\n",
        "\n",
        "def capture_packets(interface=\"eth0\", count=100, output=\"traffic.pcap\"):\n",
        "    packets = sniff(iface=interface, count=count)\n",
        "    wrpcap(output, packets)\n",
        "    print(f\"Captured {count} packets to {output}\")\n",
        "\n",
        "\n",
        "\n",
        "#analyze.py – Analyze PCAP File\n",
        "import pyshark\n",
        "\n",
        "def analyze_pcap(file_path):\n",
        "    cap = pyshark.FileCapture(file_path)\n",
        "    summary = {}\n",
        "    for pkt in cap:\n",
        "        proto = pkt.highest_layer\n",
        "        summary[proto] = summary.get(proto, 0) + 1\n",
        "    cap.close()\n",
        "    return summary\n",
        "\n",
        "\n",
        "\n",
        "#visualize.py – Visualize Protocol Distribution\n",
        "import matplotlib.pyplot as plt\n",
        "\n",
        "def plot_protocols(summary):\n",
        "    labels = list(summary.keys())\n",
        "    sizes = list(summary.values())\n",
        "    plt.pie(sizes, labels=labels, autopct='%1.1f%%')\n",
        "    plt.title(\"Protocol Distribution\")\n",
        "    plt.show()\n",
        "\n",
        "\n",
        "\n",
        "#main.py – Run the Tool\n",
        "from capture import capture_packets\n",
        "from analyze import analyze_pcap\n",
        "from visualize import plot_protocols\n",
        "\n",
        "if __name__ == \"__main__\":\n",
        "    capture_packets(interface=\"eth0\", count=200)\n",
        "    summary = analyze_pcap(\"traffic.pcap\")\n",
        "    print(\"Protocol Summary:\", summary)\n",
        "    plot_protocols(summary)\n",
        "\n",
        "\n",
        "\n",
        "#requirements.txt\n",
        "scapy\n",
        "pyshark\n",
        "matplotlib\n"
      ],
      "metadata": {
        "id": "geVd--8faL-5"
      },
      "execution_count": null,
      "outputs": []
    }
  ]
}