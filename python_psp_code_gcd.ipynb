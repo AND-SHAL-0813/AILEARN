{
  "cells": [
    {
      "cell_type": "markdown",
      "metadata": {
        "id": "view-in-github",
        "colab_type": "text"
      },
      "source": [
        "<a href=\"https://colab.research.google.com/github/AND-SHAL-0813/AILEARN/blob/main/python_psp_code_gcd.ipynb\" target=\"_parent\"><img src=\"https://colab.research.google.com/assets/colab-badge.svg\" alt=\"Open In Colab\"/></a>"
      ]
    },
    {
      "cell_type": "code",
      "execution_count": null,
      "metadata": {
        "colab": {
          "base_uri": "https://localhost:8080/"
        },
        "id": "vbfz6NbrQDEZ",
        "outputId": "7a9b2c4c-01c4-4276-e2bd-b55fd38ee270"
      },
      "outputs": [
        {
          "name": "stdout",
          "output_type": "stream",
          "text": [
            "Enter first number:12\n",
            "Enter second number:24\n",
            "GCD= 12\n"
          ]
        }
      ],
      "source": [
        "  # GCD for two numbers\n",
        "  n1=int(input(\"Enter first number:\"))\n",
        "  n2=int(input(\"Enter second number:\"))\n",
        "  if(n1<n2):\n",
        "    small=n1\n",
        "  else:\n",
        "    small=n2\n",
        "\n",
        "  while (small>0):\n",
        "    if(n1%small==0 and n2%small==0):\n",
        "      print(\"GCD=\", small)\n",
        "      break\n",
        "    small=small-1"
      ]
    },
    {
      "cell_type": "code",
      "execution_count": null,
      "metadata": {
        "colab": {
          "base_uri": "https://localhost:8080/"
        },
        "id": "2hap1BRjSfsr",
        "outputId": "2cf25ac0-9722-47f3-ab33-03809adec5b7"
      },
      "outputs": [
        {
          "name": "stdout",
          "output_type": "stream",
          "text": [
            "Enter first number: 9\n",
            "Enter second number: 12\n",
            "GCD: 3\n"
          ]
        }
      ],
      "source": [
        "def gcd(a, b):\n",
        "    while b:\n",
        "        a, b = b, a % b\n",
        "    return a1\n",
        "num1 = int(input(\"Enter first number: \"))\n",
        "num2 = int(input(\"Enter second number: \"))\n",
        "\n",
        "print(\"GCD:\", gcd(num1, num2))"
      ]
    },
    {
      "cell_type": "code",
      "execution_count": null,
      "metadata": {
        "colab": {
          "base_uri": "https://localhost:8080/"
        },
        "id": "2YFR9ZV_TPL8",
        "outputId": "8343635e-0c2c-4637-b7a1-a08ccf589ae2"
      },
      "outputs": [
        {
          "name": "stdout",
          "output_type": "stream",
          "text": [
            "Enter the position (N): 5\n",
            "5th Fibonacci number: 3\n"
          ]
        }
      ],
      "source": [
        "n = int(input(\"Enter the position (N): \"))\n",
        "print(f\"{n}th Fibonacci number:\", Fibonacci(n))\n",
        "\n",
        "def Fibonacci(n):\n",
        "    if n <= 0:\n",
        "        return \"Invalid Input\"\n",
        "    elif n == 1:\n",
        "        return 0\n",
        "    elif n == 2:\n",
        "        return 1\n",
        "\n",
        "    a, b = 0, 1\n",
        "    for _ in range(n - 2):\n",
        "        a, b = b, a + b\n",
        "    return b"
      ]
    },
    {
      "cell_type": "code",
      "execution_count": null,
      "metadata": {
        "colab": {
          "base_uri": "https://localhost:8080/"
        },
        "id": "MQYOkTR5U4Ik",
        "outputId": "5ed8c53c-8b8b-4d0a-bf92-c1d781f4452b"
      },
      "outputs": [
        {
          "name": "stdout",
          "output_type": "stream",
          "text": [
            "enter the number:7\n",
            "7\n"
          ]
        }
      ],
      "source": [
        "num=int(input(\"enter the number:\"))\n",
        "for n in range (2,num+1):\n",
        "    prime=True\n",
        "    for i in range(2,n):\n",
        "     if n%i==0:\n",
        "       prime=False\n",
        "    if prime and num%n==0:\n",
        "      print(n)"
      ]
    },
    {
      "cell_type": "code",
      "execution_count": null,
      "metadata": {
        "colab": {
          "base_uri": "https://localhost:8080/"
        },
        "id": "Oe9UjPxAWY56",
        "outputId": "f34ce45b-8e83-4a59-fbad-bd75cd1f5422"
      },
      "outputs": [
        {
          "name": "stdout",
          "output_type": "stream",
          "text": [
            "Enter the number: 6\n",
            "2\n",
            "3\n"
          ]
        }
      ],
      "source": [
        "num = int(input(\"Enter the number: \"))\n",
        "for n in range(2, num + 1):\n",
        "    prime = True\n",
        "    for i in range(2, n):\n",
        "        if n % i == 0:\n",
        "            prime = False\n",
        "            break\n",
        "    if prime and num % n == 0:\n",
        "        print(n)\n"
      ]
    },
    {
      "cell_type": "code",
      "execution_count": null,
      "metadata": {
        "colab": {
          "base_uri": "https://localhost:8080/"
        },
        "id": "wxYJGNpSUE3B",
        "outputId": "33030a62-54ff-4269-8bdf-54379f64d6cf"
      },
      "outputs": [
        {
          "name": "stdout",
          "output_type": "stream",
          "text": [
            "enter a number to be searched from array23\n"
          ]
        }
      ],
      "source": [
        "from array import array\n",
        "array1 = array('i', [10, 20, 23, 35, 56, 82, 100])\n",
        "n = int(input(\"enter a number to be searched from array\"))\n",
        "\n"
      ]
    },
    {
      "cell_type": "code",
      "execution_count": null,
      "metadata": {
        "colab": {
          "base_uri": "https://localhost:8080/"
        },
        "id": "Q7qVZ_GbVsYM",
        "outputId": "308596d9-b26b-4c21-e33a-f455d7765d3e"
      },
      "outputs": [
        {
          "name": "stdout",
          "output_type": "stream",
          "text": [
            "enter a number to be searched from array56\n",
            "number found in index 4\n"
          ]
        }
      ],
      "source": [
        "from array import*\n",
        "def binarys(array1,n,min,max):\n",
        " while(min,max):\n",
        "  mid=(min+max)//2\n",
        "  if(array1[mid]==n):\n",
        "    print(\"number found in index\",mid)\n",
        "    break\n",
        "  if(n>array1[mid]):\n",
        "   min=mid+1\n",
        "  else:\n",
        "   max=mid-1\n",
        " else:\n",
        "  print(\"number not found in the array 1\")\n",
        "array1 = array('i', [10, 20, 23, 35, 56, 82, 100])\n",
        "n = int(input(\"enter a number to be searched from array\"))\n",
        "min=0\n",
        "max=len(array1)-1\n",
        "binarys(array1,n,min,max)\n"
      ]
    },
    {
      "cell_type": "code",
      "execution_count": null,
      "metadata": {
        "colab": {
          "base_uri": "https://localhost:8080/"
        },
        "id": "ZHnzcabBDvlZ",
        "outputId": "01ea5237-5b38-4981-9731-ec4a47c64a09"
      },
      "outputs": [
        {
          "name": "stdout",
          "output_type": "stream",
          "text": [
            "[10, 20, 30, 40, 50, 60, 'VIT', 20.5, 'c']\n",
            "10\n",
            "20\n",
            "30\n",
            "40\n",
            "50\n",
            "60\n",
            "VIT\n",
            "20.5\n",
            "c\n",
            "[[1, 2, 3], [4, 5, 6]]\n",
            "[1, 2, 3]\n",
            "[4, 5, 6]\n",
            "1\n",
            "2\n",
            "3\n",
            "4\n",
            "5\n",
            "6\n"
          ]
        }
      ],
      "source": [
        "list1=[10,20,30,40,50,60,'VIT', 20.5, 'c']\n",
        "print(list1)\n",
        "for i in range(len(list1)):\n",
        "     print(list1[i])\n",
        "\n",
        "list2=[[1,2,3],[4,5,6]]\n",
        "print (list2)\n",
        "for i in range(2):\n",
        "  print (list2[i])\n",
        "for i in range(2):\n",
        "  for j in range(3):\n",
        "    print(list2[i][j])\n"
      ]
    },
    {
      "cell_type": "code",
      "execution_count": null,
      "metadata": {
        "colab": {
          "base_uri": "https://localhost:8080/"
        },
        "id": "HWlFQNHfGca9",
        "collapsed": true,
        "outputId": "cd6016ff-20f9-4ea2-d230-a5b1a40e8cc8"
      },
      "outputs": [
        {
          "output_type": "stream",
          "name": "stdout",
          "text": [
            "246\n",
            "81012\n",
            "141618\n"
          ]
        }
      ],
      "source": [
        "list1=[[1,2,3],[4,5,6],[7,8,9,10]]\n",
        "list2=[[1,2,3],[4,5,6],[7,8,9,10]]\n",
        "list3=[[0,0,0],[0,0,0],[0,0,0]]\n",
        "for i in range(len(list1[0])):\n",
        "   for j in range(len(list1)):\n",
        "    list3[i][j]=list1[i][j]+list2[i][j]\n",
        "\n",
        "for i in range(3):\n",
        "  for j in range(3):\n",
        "    print(list3[i][j],end=\"\")\n",
        "  print()\n",
        "\n",
        "#n.reverse()\n",
        "#n.sort()\n",
        "#print(n)"
      ]
    },
    {
      "cell_type": "code",
      "source": [
        "list1=[[8,8,3],[4,9,6],[7,9,9,10]]\n",
        "list2=[[1,2,3],[4,5,6],[7,8,9,10]]\n",
        "list3=[[0,0,0],[0,0,0],[0,0,0]]\n",
        "for i in range(len(list1[0])):\n",
        "   for j in range(len(list1)):\n",
        "    list3[i][j]=list1[i][j]+list2[i][j]\n",
        "\n",
        "for i in range(3):\n",
        "  for j in range(3):\n",
        "    print(list3[i][j],end=\"\")\n",
        "  print()\n",
        "\n",
        "#for row in list3:\n",
        "  #print(\"\".join(map(str,row)))\n",
        "for i in range(len(list1)):\n",
        "  for j in range(len(list1[0])):\n",
        "    list3[i][j] = list1[i][j] + list2[i][j]\n",
        "for row in list3:\n",
        "  print(\"\".join(map(str,row)))"
      ],
      "metadata": {
        "colab": {
          "base_uri": "https://localhost:8080/"
        },
        "id": "mpn4C7kvMAxg",
        "outputId": "4282f9e2-d469-436d-f615-c8ee18942ac7"
      },
      "execution_count": null,
      "outputs": [
        {
          "output_type": "stream",
          "name": "stdout",
          "text": [
            "9106\n",
            "81412\n",
            "141718\n",
            "9106\n",
            "81412\n",
            "141718\n"
          ]
        }
      ]
    },
    {
      "cell_type": "code",
      "source": [
        "# for matrix multiplication\n",
        "m = int(input(\"enter number of rows for 1st matrix\"))\n",
        "n = int(input(\"enter number of columns for 1st matrix\"))\n",
        "p = int(input(\"enter number of rows for 2nd matrix\"))\n",
        "q = int(input(\"enter number of columns for 2nd matrix\"))\n",
        "if(n!=p):\n",
        "    print(\"multiplication is not possible\")\n",
        "else:\n",
        "  a = [[0 for n in range (n)] for m in range (m)]\n",
        "  b = [[0 for q in range (q)] for p in range (p)]\n",
        "  c = [[0 for n in range (q)] for m in range (m)]\n",
        "\n",
        "  for i in range(m):\n",
        "    for j in range(n):\n",
        "      a[i][j]=int(input(\"enter element for 1st matrix:- \"))\n",
        "\n",
        "  for i in range(p):\n",
        "    for j in range(q):\n",
        "      b[i][j]=int(input(\"enter element in 2nd matrix:- \"))\n",
        "\n",
        "  for i in range(m):\n",
        "    for j in range(n):\n",
        "      print(a[i][j],end=\"\")\n",
        "    print()\n",
        "\n",
        "  for i in range(p):\n",
        "    for j in range(q):\n",
        "      print(b[i][j],end=\"\")\n",
        "    print()\n",
        "\n",
        "  for i in range(m):\n",
        "    for j in range(q):\n",
        "      print(c[i][j],end=\"\")\n",
        "    print()\n",
        "\n",
        "\n"
      ],
      "metadata": {
        "colab": {
          "base_uri": "https://localhost:8080/"
        },
        "id": "1kFfrB7o4EB8",
        "outputId": "c56668d1-d935-4a92-ab1f-1ba12ee0d8ef"
      },
      "execution_count": 12,
      "outputs": [
        {
          "output_type": "stream",
          "name": "stdout",
          "text": [
            "enter number of rows for 1st matrix3\n",
            "enter number of columns for 1st matrix3\n",
            "enter number of rows for 2nd matrix3\n",
            "enter number of columns for 2nd matrix3\n",
            "enter element for 1st matrix:- 4\n",
            "enter element for 1st matrix:- 0\n",
            "enter element for 1st matrix:- 0\n",
            "enter element for 1st matrix:- 8\n",
            "enter element for 1st matrix:- 7\n",
            "enter element for 1st matrix:- 0\n",
            "enter element for 1st matrix:- 9\n",
            "enter element for 1st matrix:- 5\n",
            "enter element for 1st matrix:- 8\n",
            "enter element in 2nd matrix:- 0\n",
            "enter element in 2nd matrix:- 0\n",
            "enter element in 2nd matrix:- 0\n",
            "enter element in 2nd matrix:- 0\n",
            "enter element in 2nd matrix:- 1\n",
            "enter element in 2nd matrix:- 3\n",
            "enter element in 2nd matrix:- 5\n",
            "enter element in 2nd matrix:- 7\n",
            "enter element in 2nd matrix:- 7\n",
            "400\n",
            "870\n",
            "958\n",
            "000\n",
            "013\n",
            "577\n",
            "000\n",
            "000\n",
            "000\n"
          ]
        }
      ]
    },
    {
      "cell_type": "code",
      "source": [
        "m = int(input(\"enter number of rows for 1st matrix:- \"))\n",
        "n = int(input(\"enter number of columns for 1st matrix:- \"))\n",
        "p = int(input(\"enter number of rows for 2nd matrix:- \"))\n",
        "q = int(input(\"enter number of columns for 2nd matrix:- \"))\n",
        "if(n!=p):\n",
        "    print(\"multiplication is not possible\")\n",
        "else:\n",
        "  a = [[0 for n in range (n)] for m in range (m)]\n",
        "  b = [[0 for q in range (q)] for p in range (p)]\n",
        "  c = [[0 for n in range (q)] for m in range (m)]\n",
        "\n",
        "  for i in range(m):\n",
        "    for j in range(n):\n",
        "      a[i][j]=int(input(\"enter element for 1st matrix:- \"))\n",
        "\n",
        "  for i in range(p):\n",
        "    for j in range(q):\n",
        "      b[i][j]=int(input(\"enter element in 2nd matrix:- \"))\n",
        "# for multipilaction of two matrix\n",
        "  for i in range(m):\n",
        "   for j in range (q):\n",
        "       for k in range(n):\n",
        "        c[i][j]=a[i][k]\n",
        "        c[i][j]=c[i][j]+a[i][k]*b[k][j] # for multiplication loop\n",
        "\n",
        "  for i in range(m):\n",
        "    for j in range(n):\n",
        "      print(a[i][j],end=\"\")\n",
        "    print()\n",
        "\n",
        "  for i in range(p):\n",
        "    for j in range(q):\n",
        "      print(b[i][j],end=\"\")\n",
        "    print()\n",
        "\n",
        "  for i in range(m):\n",
        "    for j in range(q):\n",
        "      print(c[i][j],end=\"\")\n",
        "    print()"
      ],
      "metadata": {
        "colab": {
          "base_uri": "https://localhost:8080/"
        },
        "id": "ZX2Wvnf_4v8E",
        "outputId": "c92cb46f-55f0-47ca-8d2c-69c85e4fd3c9"
      },
      "execution_count": 14,
      "outputs": [
        {
          "output_type": "stream",
          "name": "stdout",
          "text": [
            "enter number of rows for 1st matrix:- 2\n",
            "enter number of columns for 1st matrix:- 3\n",
            "enter number of rows for 2nd matrix:- 3\n",
            "enter number of columns for 2nd matrix:- 2\n",
            "enter element for 1st matrix:- 1\n",
            "enter element for 1st matrix:- 2\n",
            "enter element for 1st matrix:- 3\n",
            "enter element for 1st matrix:- 4\n",
            "enter element for 1st matrix:- 5\n",
            "enter element for 1st matrix:- 6\n",
            "enter element in 2nd matrix:- 1\n",
            "enter element in 2nd matrix:- 2\n",
            "enter element in 2nd matrix:- 3\n",
            "enter element in 2nd matrix:- 4\n",
            "enter element in 2nd matrix:- 5\n",
            "enter element in 2nd matrix:- 6\n",
            "123\n",
            "456\n",
            "12\n",
            "34\n",
            "56\n",
            "1821\n",
            "3642\n"
          ]
        }
      ]
    }
  ],
  "metadata": {
    "colab": {
      "provenance": [],
      "authorship_tag": "ABX9TyOzLGNPPrv99YxnnsdtiV0D",
      "include_colab_link": true
    },
    "kernelspec": {
      "display_name": "Python 3",
      "name": "python3"
    },
    "language_info": {
      "name": "python"
    }
  },
  "nbformat": 4,
  "nbformat_minor": 0
}