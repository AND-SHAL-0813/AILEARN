{
  "nbformat": 4,
  "nbformat_minor": 0,
  "metadata": {
    "colab": {
      "provenance": [],
      "authorship_tag": "ABX9TyMzt6gVX9tHFSH5V0UVlopg",
      "include_colab_link": true
    },
    "kernelspec": {
      "name": "python3",
      "display_name": "Python 3"
    },
    "language_info": {
      "name": "python"
    }
  },
  "cells": [
    {
      "cell_type": "markdown",
      "metadata": {
        "id": "view-in-github",
        "colab_type": "text"
      },
      "source": [
        "<a href=\"https://colab.research.google.com/github/AND-SHAL-0813/AILEARN/blob/main/python_psp_code_gcd.ipynb\" target=\"_parent\"><img src=\"https://colab.research.google.com/assets/colab-badge.svg\" alt=\"Open In Colab\"/></a>"
      ]
    },
    {
      "cell_type": "code",
      "execution_count": 4,
      "metadata": {
        "colab": {
          "base_uri": "https://localhost:8080/"
        },
        "id": "vbfz6NbrQDEZ",
        "outputId": "7a9b2c4c-01c4-4276-e2bd-b55fd38ee270"
      },
      "outputs": [
        {
          "output_type": "stream",
          "name": "stdout",
          "text": [
            "Enter first number:12\n",
            "Enter second number:24\n",
            "GCD= 12\n"
          ]
        }
      ],
      "source": [
        "  # GCD for two numbers\n",
        "  n1=int(input(\"Enter first number:\"))\n",
        "  n2=int(input(\"Enter second number:\"))\n",
        "  if(n1<n2):\n",
        "    small=n1\n",
        "  else:\n",
        "    small=n2\n",
        "\n",
        "  while (small>0):\n",
        "    if(n1%small==0 and n2%small==0):\n",
        "      print(\"GCD=\", small)\n",
        "      break\n",
        "    small=small-1"
      ]
    },
    {
      "cell_type": "code",
      "source": [
        "def gcd(a, b):\n",
        "    while b:\n",
        "        a, b = b, a % b\n",
        "    return a1\n",
        "num1 = int(input(\"Enter first number: \"))\n",
        "num2 = int(input(\"Enter second number: \"))\n",
        "\n",
        "print(\"GCD:\", gcd(num1, num2))"
      ],
      "metadata": {
        "colab": {
          "base_uri": "https://localhost:8080/"
        },
        "id": "2hap1BRjSfsr",
        "outputId": "2cf25ac0-9722-47f3-ab33-03809adec5b7"
      },
      "execution_count": 5,
      "outputs": [
        {
          "output_type": "stream",
          "name": "stdout",
          "text": [
            "Enter first number: 9\n",
            "Enter second number: 12\n",
            "GCD: 3\n"
          ]
        }
      ]
    },
    {
      "cell_type": "code",
      "source": [
        "n = int(input(\"Enter the position (N): \"))\n",
        "print(f\"{n}th Fibonacci number:\", Fibonacci(n))\n",
        "\n",
        "def Fibonacci(n):\n",
        "    if n <= 0:\n",
        "        return \"Invalid Input\"\n",
        "    elif n == 1:\n",
        "        return 0\n",
        "    elif n == 2:\n",
        "        return 1\n",
        "\n",
        "    a, b = 0, 1\n",
        "    for _ in range(n - 2):\n",
        "        a, b = b, a + b\n",
        "    return b"
      ],
      "metadata": {
        "colab": {
          "base_uri": "https://localhost:8080/"
        },
        "id": "2YFR9ZV_TPL8",
        "outputId": "8343635e-0c2c-4637-b7a1-a08ccf589ae2"
      },
      "execution_count": 9,
      "outputs": [
        {
          "output_type": "stream",
          "name": "stdout",
          "text": [
            "Enter the position (N): 5\n",
            "5th Fibonacci number: 3\n"
          ]
        }
      ]
    },
    {
      "cell_type": "code",
      "source": [
        "num=int(input(\"enter the number:\"))\n",
        "for n in range (2,num+1):\n",
        "    prime=True\n",
        "    for i in range(2,n):\n",
        "     if n%i==0:\n",
        "       prime=False\n",
        "    if prime and num%n==0:\n",
        "      print(n)"
      ],
      "metadata": {
        "colab": {
          "base_uri": "https://localhost:8080/"
        },
        "id": "MQYOkTR5U4Ik",
        "outputId": "5ed8c53c-8b8b-4d0a-bf92-c1d781f4452b"
      },
      "execution_count": 21,
      "outputs": [
        {
          "output_type": "stream",
          "name": "stdout",
          "text": [
            "enter the number:7\n",
            "7\n"
          ]
        }
      ]
    },
    {
      "cell_type": "code",
      "source": [
        "num = int(input(\"Enter the number: \"))\n",
        "for n in range(2, num + 1):\n",
        "    prime = True\n",
        "    for i in range(2, n):\n",
        "        if n % i == 0:\n",
        "            prime = False\n",
        "            break\n",
        "    if prime and num % n == 0:\n",
        "        print(n)\n"
      ],
      "metadata": {
        "colab": {
          "base_uri": "https://localhost:8080/"
        },
        "id": "Oe9UjPxAWY56",
        "outputId": "f34ce45b-8e83-4a59-fbad-bd75cd1f5422"
      },
      "execution_count": 15,
      "outputs": [
        {
          "output_type": "stream",
          "name": "stdout",
          "text": [
            "Enter the number: 6\n",
            "2\n",
            "3\n"
          ]
        }
      ]
    }
  ]
}